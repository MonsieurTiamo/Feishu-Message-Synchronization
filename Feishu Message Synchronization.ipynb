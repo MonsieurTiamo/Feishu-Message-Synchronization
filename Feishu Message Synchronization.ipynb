{
 "cells": [
  {
   "cell_type": "code",
   "execution_count": null,
   "id": "f7817bed-1c33-4ce2-8f3b-0c6b77ccfefb",
   "metadata": {},
   "outputs": [],
   "source": [
    "import json\n",
    "import pandas as pd\n",
    "import lark_oapi as lark\n",
    "from lark_oapi.api.bitable.v1 import *\n",
    "from typing import List"
   ]
  },
  {
   "cell_type": "code",
   "execution_count": null,
   "id": "1d7df113-7130-46b1-85ec-92c681411755",
   "metadata": {},
   "outputs": [],
   "source": [
    "CONFIG = {    \n",
    "    \"app_token\": \"xxx\", \n",
    "    \"table_id\": \"xxx\",      \n",
    "    \"user_token\": \"xxx\"  \n",
    "}"
   ]
  },
  {
   "cell_type": "code",
   "execution_count": null,
   "id": "a02d7304-9227-410f-8c27-05cb2b104583",
   "metadata": {},
   "outputs": [],
   "source": [
    "from search import search"
   ]
  },
  {
   "cell_type": "code",
   "execution_count": null,
   "id": "5ec5bb1c-2c75-497e-a22a-b690d77b84c5",
   "metadata": {},
   "outputs": [],
   "source": [
    "t = search()#Finding Information from Feishu Multi-Dimensional Tables"
   ]
  },
  {
   "cell_type": "code",
   "execution_count": null,
   "id": "512a139b-393a-427c-b17d-92989b824c15",
   "metadata": {},
   "outputs": [],
   "source": [
    "response_data_str = t\n",
    "response_data = json.loads(response_data_str) \n",
    "\n",
    "df = pd.DataFrame([\n",
    "    {**item.get(\"fields\", {})} \n",
    "    for item in response_data[\"items\"]  \n",
    "])\n",
    "\n",
    "df.fillna('', inplace=True)\n",
    "\n",
    "df = df.dropna()\n",
    "\n",
    "print(df)"
   ]
  },
  {
   "cell_type": "code",
   "execution_count": null,
   "id": "d04c1d97-5881-4649-bfc7-19ee0197d4cd",
   "metadata": {},
   "outputs": [],
   "source": [
    "from extract_text import extract_text"
   ]
  },
  {
   "cell_type": "code",
   "execution_count": null,
   "id": "56ecd7af-f382-43e9-a44c-6acb2fc776f6",
   "metadata": {},
   "outputs": [],
   "source": [
    "columns_to_process = ['xxx', 'xxx', 'xxx']\n",
    "for col in columns_to_process:\n",
    "    df[col] = df[col].apply(extract_text)#Processing the returned json data\n",
    "\n",
    "print(df)"
   ]
  },
  {
   "cell_type": "code",
   "execution_count": null,
   "id": "0627ffc9-0cb6-4051-b316-ec8e59edc89c",
   "metadata": {},
   "outputs": [],
   "source": [
    "# Replace empty string with NaN\n",
    "df[['xxx', 'xxx', 'xxx']] = df[['xxx', 'xxx', 'xxx']].replace('', pd.NA)\n",
    "\n",
    "df = df[df.isnull().any(axis=1)]\n",
    "\n",
    "print(df)"
   ]
  },
  {
   "cell_type": "code",
   "execution_count": null,
   "id": "a6468d5a-c0be-4832-8887-232781ea33f6",
   "metadata": {},
   "outputs": [],
   "source": [
    "from fill_missing_values import fill_missing_values"
   ]
  },
  {
   "cell_type": "code",
   "execution_count": null,
   "id": "358abf3d-f177-4316-b1c9-2f1f4131a2a3",
   "metadata": {},
   "outputs": [],
   "source": [
    "source_excels = [\"\", \"\", \"\", \"\"]\n",
    "       \n",
    "main_df = fill_missing_values(df, source_excels)\n",
    "\n",
    "print(main_df)"
   ]
  },
  {
   "cell_type": "markdown",
   "id": "a3ec36d3-045d-4da4-8851-bc350afa8427",
   "metadata": {},
   "source": [
    "When force_ascii=False, this means that non-ASCII characters (e.g., Chinese characters, special symbols, etc.) will be retained during conversion or writing, instead of being converted to the corresponding ASCII characters or encoded."
   ]
  },
  {
   "cell_type": "code",
   "execution_count": null,
   "id": "da137754-02eb-4bb7-b862-14080ac003f4",
   "metadata": {},
   "outputs": [],
   "source": [
    "json_str = main_df.to_json(orient=\"records\", force_ascii=False, indent=2)\n",
    "clean_json = json_str.replace(r\"\\/\", \"/\")\n",
    "clean_json = json.loads(clean_json)\n",
    "print(clean_json)"
   ]
  },
  {
   "cell_type": "code",
   "execution_count": null,
   "id": "a9857da7-8ef5-4a25-b7b8-6063884636f2",
   "metadata": {},
   "outputs": [],
   "source": [
    "from create_bitable_records import create_bitable_records"
   ]
  },
  {
   "cell_type": "code",
   "execution_count": null,
   "id": "6d0c8223-3b0b-482c-8ba9-74041337791d",
   "metadata": {},
   "outputs": [],
   "source": [
    "from main import main"
   ]
  },
  {
   "cell_type": "code",
   "execution_count": null,
   "id": "2a65f68d-bfb8-4761-808c-6e1909add78d",
   "metadata": {},
   "outputs": [],
   "source": [
    "if __name__ == \"__main__\":\n",
    "    main()"
   ]
  }
 ],
 "metadata": {
  "kernelspec": {
   "display_name": "Python 3 (ipykernel)",
   "language": "python",
   "name": "python3"
  },
  "language_info": {
   "codemirror_mode": {
    "name": "ipython",
    "version": 3
   },
   "file_extension": ".py",
   "mimetype": "text/x-python",
   "name": "python",
   "nbconvert_exporter": "python",
   "pygments_lexer": "ipython3",
   "version": "3.12.7"
  }
 },
 "nbformat": 4,
 "nbformat_minor": 5
}
