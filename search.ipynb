{
 "cells": [
  {
   "cell_type": "code",
   "execution_count": null,
   "id": "90f0a349-fb40-4e6c-b4e6-56d8da07de6a",
   "metadata": {},
   "outputs": [],
   "source": [
    "def search():\n",
    "    \n",
    "    client = lark.Client.builder() \\\n",
    "        .enable_set_token(True) \\\n",
    "        .log_level(lark.LogLevel.DEBUG) \\\n",
    "        .build()\n",
    "\n",
    "    request: SearchAppTableRecordRequest = SearchAppTableRecordRequest.builder() \\\n",
    "        .app_token(CONFIG[\"app_token\"]) \\\n",
    "        .table_id(CONFIG[\"table_id\"]) \\\n",
    "        .page_size(20) \\\n",
    "        .request_body(SearchAppTableRecordRequestBody.builder()\n",
    "            .build()) \\\n",
    "        .build()\n",
    "\n",
    "    option = lark.RequestOption.builder().user_access_token(CONFIG[\"user_token\"]).build()\n",
    "    response: SearchAppTableRecordResponse = client.bitable.v1.app_table_record.search(request, option)\n",
    "\n",
    "    if not response.success():\n",
    "        lark.logger.error(\n",
    "            f\"client.bitable.v1.app_table_record.search failed, code: {response.code}, msg: {response.msg}, log_id: {response.get_log_id()}, resp: \\n{json.dumps(json.loads(response.raw.content), indent=4, ensure_ascii=False)}\")\n",
    "        return\n",
    "\n",
    "    # 处理业务结果\n",
    "    lark.logger.info(lark.JSON.marshal(response.data, indent=4))\n",
    "\n",
    "    return lark.JSON.marshal(response.data, indent=4)"
   ]
  }
 ],
 "metadata": {
  "kernelspec": {
   "display_name": "Python 3 (ipykernel)",
   "language": "python",
   "name": "python3"
  },
  "language_info": {
   "codemirror_mode": {
    "name": "ipython",
    "version": 3
   },
   "file_extension": ".py",
   "mimetype": "text/x-python",
   "name": "python",
   "nbconvert_exporter": "python",
   "pygments_lexer": "ipython3",
   "version": "3.12.7"
  }
 },
 "nbformat": 4,
 "nbformat_minor": 5
}
