{
 "cells": [
  {
   "cell_type": "code",
   "execution_count": null,
   "id": "b27686e9-7f42-44cd-9920-a59a366498ad",
   "metadata": {},
   "outputs": [],
   "source": [
    "def fill_missing_values(df, source_files):\n",
    "    \n",
    "    main_df = df\n",
    "    \n",
    "    sources = []\n",
    "\n",
    "    for file in source_files:\n",
    "       \n",
    "        df = pd.read_excel(file)\n",
    "        \n",
    "        source_dict = {}\n",
    "            \n",
    "        for _, row in df.iterrows():\n",
    "           \n",
    "            account = row['xxx']\n",
    "    \n",
    "            source_dict[account] = {\n",
    "                'xxx': row['xxx'],\n",
    "                'xxx': row['xxx'],\n",
    "                'xxx': row['xxx']\n",
    "            }\n",
    "\n",
    "        sources.append(source_dict)\n",
    "    \n",
    "    for index, row in main_df.iterrows():\n",
    "        \n",
    "        account = row['xxx']\n",
    "        \n",
    "        if pd.notna(account) : \n",
    "           \n",
    "            for source_dict in sources:\n",
    "               \n",
    "                if account in source_dict:\n",
    "                   \n",
    "                    data = source_dict[account]\n",
    "                    main_df.at[index, '粉丝总量'] = data['粉丝总量']\n",
    "                    main_df.at[index, '频道链接'] = data['Tiktok达人详情']\n",
    "                    main_df.at[index, '达人昵称'] = data['达人昵称']\n",
    "                    \n",
    "                    break\n",
    "    return  main_df"
   ]
  }
 ],
 "metadata": {
  "kernelspec": {
   "display_name": "Python 3 (ipykernel)",
   "language": "python",
   "name": "python3"
  },
  "language_info": {
   "codemirror_mode": {
    "name": "ipython",
    "version": 3
   },
   "file_extension": ".py",
   "mimetype": "text/x-python",
   "name": "python",
   "nbconvert_exporter": "python",
   "pygments_lexer": "ipython3",
   "version": "3.12.7"
  }
 },
 "nbformat": 4,
 "nbformat_minor": 5
}
