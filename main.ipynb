{
 "cells": [
  {
   "cell_type": "code",
   "execution_count": null,
   "id": "ab9319c5-2a01-4895-9c4f-986ea1516ddd",
   "metadata": {},
   "outputs": [],
   "source": [
    "def main():\n",
    "    try:\n",
    "        \n",
    "        client = lark.Client.builder() \\\n",
    "            .enable_set_token(True) \\\n",
    "            .log_level(lark.LogLevel.DEBUG) \\\n",
    "            .build()\n",
    "\n",
    "        request = BatchCreateAppTableRecordRequest.builder() \\\n",
    "            .app_token(CONFIG[\"app_token\"]) \\\n",
    "            .table_id(CONFIG[\"table_id\"]) \\\n",
    "            .request_body(BatchCreateAppTableRecordRequestBody.builder()\n",
    "                .records(create_bitable_records(clean_json))\n",
    "                .build()) \\\n",
    "            .build()\n",
    "\n",
    "        option = lark.RequestOption.builder().user_access_token(CONFIG[\"user_token\"]).build()\n",
    "        response = client.bitable.v1.app_table_record.batch_create(request, option)\n",
    "\n",
    "        if response.success():\n",
    "            lark.logger.info(f\"Successfully inserted {len(main_df)} rows.\")\n",
    "            lark.logger.debug(lark.JSON.marshal(response.data, indent=4))\n",
    "        else:\n",
    "            error_info = json.loads(response.raw.content)\n",
    "            lark.logger.error(f\"Insertion failure | Code: {response.code}, Msg: {response.msg}, Detail: {error_info}\")\n",
    "            \n",
    "    except Exception as e:\n",
    "        lark.logger.error(f\"Abnormal program termination: {str(e)}\")\n"
   ]
  }
 ],
 "metadata": {
  "kernelspec": {
   "display_name": "Python 3 (ipykernel)",
   "language": "python",
   "name": "python3"
  },
  "language_info": {
   "codemirror_mode": {
    "name": "ipython",
    "version": 3
   },
   "file_extension": ".py",
   "mimetype": "text/x-python",
   "name": "python",
   "nbconvert_exporter": "python",
   "pygments_lexer": "ipython3",
   "version": "3.12.7"
  }
 },
 "nbformat": 4,
 "nbformat_minor": 5
}
