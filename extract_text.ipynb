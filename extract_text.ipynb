{
 "cells": [
  {
   "cell_type": "code",
   "execution_count": null,
   "id": "c9e89646-2888-4209-af39-259e18d0c9cf",
   "metadata": {},
   "outputs": [],
   "source": [
    "def extract_text(cell):\n",
    "    if isinstance(cell, list) and len(cell) > 0:\n",
    "        first_item = cell[0]\n",
    "        if isinstance(first_item, dict):\n",
    "            return first_item.get('text', '')\n",
    "    return ''"
   ]
  },
  {
   "cell_type": "markdown",
   "id": "1eb81fdd-e877-4a7d-95b7-000e234d52a1",
   "metadata": {},
   "source": [
    "Extract the 'text' value of the first dictionary in the list"
   ]
  },
  {
   "cell_type": "markdown",
   "id": "2cc6e758-3af7-4d91-a9a0-680246cdcdf8",
   "metadata": {},
   "source": [
    "Note that this is in string format"
   ]
  }
 ],
 "metadata": {
  "kernelspec": {
   "display_name": "Python 3 (ipykernel)",
   "language": "python",
   "name": "python3"
  },
  "language_info": {
   "codemirror_mode": {
    "name": "ipython",
    "version": 3
   },
   "file_extension": ".py",
   "mimetype": "text/x-python",
   "name": "python",
   "nbconvert_exporter": "python",
   "pygments_lexer": "ipython3",
   "version": "3.12.7"
  }
 },
 "nbformat": 4,
 "nbformat_minor": 5
}
